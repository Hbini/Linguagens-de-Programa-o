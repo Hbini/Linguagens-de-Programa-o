{
  "nbformat": 4,
  "nbformat_minor": 0,
  "metadata": {
    "colab": {
      "provenance": []
    },
    "kernelspec": {
      "name": "python3",
      "display_name": "Python 3"
    },
    "language_info": {
      "name": "python"
    }
  },
  "cells": [
    {
      "cell_type": "code",
      "source": [
        "import pandas as pd\n",
        "import altair as alt\n",
        "\n",
        "# Inicio e elaboração do código - Jaqueline\n",
        "# --- Configurações Iniciais ---\n",
        "DATA_PATH = '/content/cert_2010-2019.csv'\n",
        "\n",
        "# Carregar dados\n",
        "df = pd.read_csv(DATA_PATH, delimiter=';')\n",
        "\n",
        "# Imprimir os nomes das colunas, incluindo espaços em branco\n",
        "print(\"Nomes das colunas (incluindo espaços em branco):\", df.columns)\n",
        "\n",
        "# Verificar e corrigir coluna 'Ano' com espaços em branco\n",
        "if 'Ano ' in df.columns:  # Note o espaço extra após 'Ano'\n",
        "    df.rename(columns={'Ano ': 'Ano'}, inplace=True)\n",
        "    print(\"Espaços em branco extras removidos da coluna 'Ano'.\")\n",
        "\n",
        "# Converter coluna 'Ano' para numérica\n",
        "df['Ano'] = pd.to_numeric(df['Ano'], errors='coerce')\n",
        "\n",
        "# Calcular o total de cada tipo de ataque por ano\n",
        "df_ataques_por_ano = df.groupby('Ano')[['Worm', 'DOS', 'Invasao', 'Web', 'Scan', 'Fraude', 'Outros']].sum().reset_index()\n",
        "\n",
        "# Transformar o DataFrame para o formato longo\n",
        "df_ataques_por_ano_longo = df_ataques_por_ano.melt(id_vars='Ano', var_name='Tipo de Ataque', value_name='Total')\n",
        "\n",
        "# Calcular o total geral de ataques\n",
        "total_geral = df_ataques_por_ano_longo['Total'].sum()\n",
        "\n",
        "# Adicionar a coluna de proporção\n",
        "df_ataques_por_ano_longo['Proporção'] = (df_ataques_por_ano_longo['Total'] / total_geral) * 100\n",
        "\n",
        "# Visualização de dados\n",
        "\n",
        "# ajustes e apresentação dos gráfico - Hernane\n",
        "\n",
        "# Gráfico 1: Evolução do Total de Ataques por Tipo ao Longo dos Anos\n",
        "chart1 = alt.Chart(df_ataques_por_ano_longo).mark_line(point=True).encode(\n",
        "    x=alt.X('Ano:N', axis=alt.Axis(title='Ano')),\n",
        "    y=alt.Y('Total:Q', axis=alt.Axis(title='Total de Ataques')),\n",
        "    color=alt.Color('Tipo de Ataque:N', legend=alt.Legend(title='Tipo de Ataque')),\n",
        "    tooltip=['Ano', 'Tipo de Ataque', 'Total']\n",
        ").interactive()\n",
        "\n",
        "display(chart1)\n",
        "\n",
        "# Gráfico 2: Total de Ataques por Tipo\n",
        "chart2 = alt.Chart(df_ataques_por_ano_longo).mark_bar().encode(\n",
        "    x=alt.X('Tipo de Ataque:N', sort='-y', axis=alt.Axis(title='Tipo de Ataque', labelAngle=-45)),\n",
        "    y=alt.Y('sum(Total):Q', axis=alt.Axis(title='Total de Ataques')),\n",
        "    tooltip=['Tipo de Ataque', 'sum(Total)']\n",
        ").interactive()\n",
        "\n",
        "display(chart2)\n"
      ],
      "metadata": {
        "colab": {
          "base_uri": "https://localhost:8080/",
          "height": 808
        },
        "id": "01q0nl5tzunA",
        "outputId": "6c56e4e5-065b-4e21-e4f7-4118cfd57ebc"
      },
      "execution_count": 2,
      "outputs": [
        {
          "output_type": "stream",
          "name": "stdout",
          "text": [
            "Nomes das colunas (incluindo espaços em branco): Index(['Ano', 'Mes', 'Total', 'Worm', 'DOS', 'Invasao', 'Web', 'Scan',\n",
            "       'Fraude', 'Outros'],\n",
            "      dtype='object')\n"
          ]
        },
        {
          "output_type": "display_data",
          "data": {
            "text/html": [
              "\n",
              "<div id=\"altair-viz-8b300c6092894b099a91987a6641685f\"></div>\n",
              "<script type=\"text/javascript\">\n",
              "  var VEGA_DEBUG = (typeof VEGA_DEBUG == \"undefined\") ? {} : VEGA_DEBUG;\n",
              "  (function(spec, embedOpt){\n",
              "    let outputDiv = document.currentScript.previousElementSibling;\n",
              "    if (outputDiv.id !== \"altair-viz-8b300c6092894b099a91987a6641685f\") {\n",
              "      outputDiv = document.getElementById(\"altair-viz-8b300c6092894b099a91987a6641685f\");\n",
              "    }\n",
              "    const paths = {\n",
              "      \"vega\": \"https://cdn.jsdelivr.net/npm//vega@5?noext\",\n",
              "      \"vega-lib\": \"https://cdn.jsdelivr.net/npm//vega-lib?noext\",\n",
              "      \"vega-lite\": \"https://cdn.jsdelivr.net/npm//vega-lite@4.17.0?noext\",\n",
              "      \"vega-embed\": \"https://cdn.jsdelivr.net/npm//vega-embed@6?noext\",\n",
              "    };\n",
              "\n",
              "    function maybeLoadScript(lib, version) {\n",
              "      var key = `${lib.replace(\"-\", \"\")}_version`;\n",
              "      return (VEGA_DEBUG[key] == version) ?\n",
              "        Promise.resolve(paths[lib]) :\n",
              "        new Promise(function(resolve, reject) {\n",
              "          var s = document.createElement('script');\n",
              "          document.getElementsByTagName(\"head\")[0].appendChild(s);\n",
              "          s.async = true;\n",
              "          s.onload = () => {\n",
              "            VEGA_DEBUG[key] = version;\n",
              "            return resolve(paths[lib]);\n",
              "          };\n",
              "          s.onerror = () => reject(`Error loading script: ${paths[lib]}`);\n",
              "          s.src = paths[lib];\n",
              "        });\n",
              "    }\n",
              "\n",
              "    function showError(err) {\n",
              "      outputDiv.innerHTML = `<div class=\"error\" style=\"color:red;\">${err}</div>`;\n",
              "      throw err;\n",
              "    }\n",
              "\n",
              "    function displayChart(vegaEmbed) {\n",
              "      vegaEmbed(outputDiv, spec, embedOpt)\n",
              "        .catch(err => showError(`Javascript Error: ${err.message}<br>This usually means there's a typo in your chart specification. See the javascript console for the full traceback.`));\n",
              "    }\n",
              "\n",
              "    if(typeof define === \"function\" && define.amd) {\n",
              "      requirejs.config({paths});\n",
              "      require([\"vega-embed\"], displayChart, err => showError(`Error loading script: ${err.message}`));\n",
              "    } else {\n",
              "      maybeLoadScript(\"vega\", \"5\")\n",
              "        .then(() => maybeLoadScript(\"vega-lite\", \"4.17.0\"))\n",
              "        .then(() => maybeLoadScript(\"vega-embed\", \"6\"))\n",
              "        .catch(showError)\n",
              "        .then(() => displayChart(vegaEmbed));\n",
              "    }\n",
              "  })({\"config\": {\"view\": {\"continuousWidth\": 400, \"continuousHeight\": 300}}, \"data\": {\"name\": \"data-250c43f4bc93b8cc24ef9c2b5d3c9c2e\"}, \"mark\": {\"type\": \"line\", \"point\": true}, \"encoding\": {\"color\": {\"field\": \"Tipo de Ataque\", \"legend\": {\"title\": \"Tipo de Ataque\"}, \"type\": \"nominal\"}, \"tooltip\": [{\"field\": \"Ano\", \"type\": \"quantitative\"}, {\"field\": \"Tipo de Ataque\", \"type\": \"nominal\"}, {\"field\": \"Total\", \"type\": \"quantitative\"}], \"x\": {\"axis\": {\"title\": \"Ano\"}, \"field\": \"Ano\", \"type\": \"nominal\"}, \"y\": {\"axis\": {\"title\": \"Total de Ataques\"}, \"field\": \"Total\", \"type\": \"quantitative\"}}, \"selection\": {\"selector003\": {\"type\": \"interval\", \"bind\": \"scales\", \"encodings\": [\"x\", \"y\"]}}, \"$schema\": \"https://vega.github.io/schema/vega-lite/v4.17.0.json\", \"datasets\": {\"data-250c43f4bc93b8cc24ef9c2b5d3c9c2e\": [{\"Ano\": 2010, \"Tipo de Ataque\": \"Worm\", \"Total\": 17628, \"Propor\\u00e7\\u00e3o\": 0.28601667586902224}, {\"Ano\": 2011, \"Tipo de Ataque\": \"Worm\", \"Total\": 26897, \"Propor\\u00e7\\u00e3o\": 0.43640745012758636}, {\"Ano\": 2012, \"Tipo de Ataque\": \"Worm\", \"Total\": 38466, \"Propor\\u00e7\\u00e3o\": 0.6241160343758686}, {\"Ano\": 2013, \"Tipo de Ataque\": \"Worm\", \"Total\": 27979, \"Propor\\u00e7\\u00e3o\": 0.453963045957532}, {\"Ano\": 2014, \"Tipo de Ataque\": \"Worm\", \"Total\": 42191, \"Propor\\u00e7\\u00e3o\": 0.6845546614244338}, {\"Ano\": 2015, \"Tipo de Ataque\": \"Worm\", \"Total\": 47722, \"Propor\\u00e7\\u00e3o\": 0.7742958818823168}, {\"Ano\": 2016, \"Tipo de Ataque\": \"Worm\", \"Total\": 28248, \"Propor\\u00e7\\u00e3o\": 0.4583276072128512}, {\"Ano\": 2017, \"Tipo de Ataque\": \"Worm\", \"Total\": 45101, \"Propor\\u00e7\\u00e3o\": 0.7317698036288163}, {\"Ano\": 2018, \"Tipo de Ataque\": \"Worm\", \"Total\": 39071, \"Propor\\u00e7\\u00e3o\": 0.6339322409166422}, {\"Ano\": 2019, \"Tipo de Ataque\": \"Worm\", \"Total\": 100477, \"Propor\\u00e7\\u00e3o\": 1.6302528671030037}, {\"Ano\": 2010, \"Tipo de Ataque\": \"DOS\", \"Total\": 198, \"Propor\\u00e7\\u00e3o\": 0.0032125766860713867}, {\"Ano\": 2011, \"Tipo de Ataque\": \"DOS\", \"Total\": 272, \"Propor\\u00e7\\u00e3o\": 0.004413236659653623}, {\"Ano\": 2012, \"Tipo de Ataque\": \"DOS\", \"Total\": 309, \"Propor\\u00e7\\u00e3o\": 0.00501356664644474}, {\"Ano\": 2013, \"Tipo de Ataque\": \"DOS\", \"Total\": 1030, \"Propor\\u00e7\\u00e3o\": 0.016711888821482467}, {\"Ano\": 2014, \"Tipo de Ataque\": \"DOS\", \"Total\": 223935, \"Propor\\u00e7\\u00e3o\": 3.633375556542404}, {\"Ano\": 2015, \"Tipo de Ataque\": \"DOS\", \"Total\": 25360, \"Propor\\u00e7\\u00e3o\": 0.41146941797358777}, {\"Ano\": 2016, \"Tipo de Ataque\": \"DOS\", \"Total\": 60432, \"Propor\\u00e7\\u00e3o\": 0.9805173449124549}, {\"Ano\": 2017, \"Tipo de Ataque\": \"DOS\", \"Total\": 220188, \"Propor\\u00e7\\u00e3o\": 3.57257997652872}, {\"Ano\": 2018, \"Tipo de Ataque\": \"DOS\", \"Total\": 158407, \"Propor\\u00e7\\u00e3o\": 2.5701749248005568}, {\"Ano\": 2019, \"Tipo de Ataque\": \"DOS\", \"Total\": 301308, \"Propor\\u00e7\\u00e3o\": 4.888762909731301}, {\"Ano\": 2010, \"Tipo de Ataque\": \"Invasao\", \"Total\": 89, \"Propor\\u00e7\\u00e3o\": 0.0014440369952543103}, {\"Ano\": 2011, \"Tipo de Ataque\": \"Invasao\", \"Total\": 106, \"Propor\\u00e7\\u00e3o\": 0.001719864286482662}, {\"Ano\": 2012, \"Tipo de Ataque\": \"Invasao\", \"Total\": 7815, \"Propor\\u00e7\\u00e3o\": 0.12679942829115096}, {\"Ano\": 2013, \"Tipo de Ataque\": \"Invasao\", \"Total\": 11207, \"Propor\\u00e7\\u00e3o\": 0.18183508545859614}, {\"Ano\": 2014, \"Tipo de Ataque\": \"Invasao\", \"Total\": 6509, \"Propor\\u00e7\\u00e3o\": 0.1056094022709023}, {\"Ano\": 2015, \"Tipo de Ataque\": \"Invasao\", \"Total\": 2457, \"Propor\\u00e7\\u00e3o\": 0.03986515614988585}, {\"Ano\": 2016, \"Tipo de Ataque\": \"Invasao\", \"Total\": 1695, \"Propor\\u00e7\\u00e3o\": 0.02750160344894445}, {\"Ano\": 2017, \"Tipo de Ataque\": \"Invasao\", \"Total\": 401, \"Propor\\u00e7\\u00e3o\": 0.006506279046033466}, {\"Ano\": 2018, \"Tipo de Ataque\": \"Invasao\", \"Total\": 1075, \"Propor\\u00e7\\u00e3o\": 0.017442019886498693}, {\"Ano\": 2019, \"Tipo de Ataque\": \"Invasao\", \"Total\": 527, \"Propor\\u00e7\\u00e3o\": 0.008550646028078894}, {\"Ano\": 2010, \"Tipo de Ataque\": \"Web\", \"Total\": 8712, \"Propor\\u00e7\\u00e3o\": 0.14135337418714103}, {\"Ano\": 2011, \"Tipo de Ataque\": \"Web\", \"Total\": 15491, \"Propor\\u00e7\\u00e3o\": 0.2513435628481407}, {\"Ano\": 2012, \"Tipo de Ataque\": \"Web\", \"Total\": 25557, \"Propor\\u00e7\\u00e3o\": 0.414665769524881}, {\"Ano\": 2013, \"Tipo de Ataque\": \"Web\", \"Total\": 18721, \"Propor\\u00e7\\u00e3o\": 0.3037507481815274}, {\"Ano\": 2014, \"Tipo de Ataque\": \"Web\", \"Total\": 28808, \"Propor\\u00e7\\u00e3o\": 0.4674136826886087}, {\"Ano\": 2015, \"Tipo de Ataque\": \"Web\", \"Total\": 65647, \"Propor\\u00e7\\u00e3o\": 1.065131422780446}, {\"Ano\": 2016, \"Tipo de Ataque\": \"Web\", \"Total\": 55441, \"Propor\\u00e7\\u00e3o\": 0.8995376972347665}, {\"Ano\": 2017, \"Tipo de Ataque\": \"Web\", \"Total\": 60766, \"Propor\\u00e7\\u00e3o\": 0.985936539928353}, {\"Ano\": 2018, \"Tipo de Ataque\": \"Web\", \"Total\": 41193, \"Propor\\u00e7\\u00e3o\": 0.6683619769158518}, {\"Ano\": 2019, \"Tipo de Ataque\": \"Web\", \"Total\": 22334, \"Propor\\u00e7\\u00e3o\": 0.3623721601349412}, {\"Ano\": 2010, \"Tipo de Ataque\": \"Scan\", \"Total\": 80769, \"Propor\\u00e7\\u00e3o\": 1.3104879108954537}, {\"Ano\": 2011, \"Tipo de Ataque\": \"Scan\", \"Total\": 119755, \"Propor\\u00e7\\u00e3o\": 1.9430410153559543}, {\"Ano\": 2012, \"Tipo de Ataque\": \"Scan\", \"Total\": 232498, \"Propor\\u00e7\\u00e3o\": 3.7723113856476025}, {\"Ano\": 2013, \"Tipo de Ataque\": \"Scan\", \"Total\": 165396, \"Propor\\u00e7\\u00e3o\": 2.683572391764965}, {\"Ano\": 2014, \"Tipo de Ataque\": \"Scan\", \"Total\": 263659, \"Propor\\u00e7\\u00e3o\": 4.277902810469171}, {\"Ano\": 2015, \"Tipo de Ataque\": \"Scan\", \"Total\": 391223, \"Propor\\u00e7\\u00e3o\": 6.3476459033076065}, {\"Ano\": 2016, \"Tipo de Ataque\": \"Scan\", \"Total\": 383903, \"Propor\\u00e7\\u00e3o\": 6.228877916731635}, {\"Ano\": 2017, \"Tipo de Ataque\": \"Scan\", \"Total\": 443258, \"Propor\\u00e7\\u00e3o\": 7.191920791488035}, {\"Ano\": 2018, \"Tipo de Ataque\": \"Scan\", \"Total\": 397590, \"Propor\\u00e7\\u00e3o\": 6.4509513364400135}, {\"Ano\": 2019, \"Tipo de Ataque\": \"Scan\", \"Total\": 409748, \"Propor\\u00e7\\u00e3o\": 6.64821652507262}, {\"Ano\": 2010, \"Tipo de Ataque\": \"Fraude\", \"Total\": 31008, \"Propor\\u00e7\\u00e3o\": 0.503108979200513}, {\"Ano\": 2011, \"Tipo de Ataque\": \"Fraude\", \"Total\": 40381, \"Propor\\u00e7\\u00e3o\": 0.6551871674760035}, {\"Ano\": 2012, \"Tipo de Ataque\": \"Fraude\", \"Total\": 69561, \"Propor\\u00e7\\u00e3o\": 1.1286366003020796}, {\"Ano\": 2013, \"Tipo de Ataque\": \"Fraude\", \"Total\": 85675, \"Propor\\u00e7\\u00e3o\": 1.3900884221170005}, {\"Ano\": 2014, \"Tipo de Ataque\": \"Fraude\", \"Total\": 467621, \"Propor\\u00e7\\u00e3o\": 7.58721375008782}, {\"Ano\": 2015, \"Tipo de Ataque\": \"Fraude\", \"Total\": 168775, \"Propor\\u00e7\\u00e3o\": 2.7383971221802947}, {\"Ano\": 2016, \"Tipo de Ataque\": \"Fraude\", \"Total\": 102718, \"Propor\\u00e7\\u00e3o\": 1.6666133941408119}, {\"Ano\": 2017, \"Tipo de Ataque\": \"Fraude\", \"Total\": 59319, \"Propor\\u00e7\\u00e3o\": 0.9624587699043868}, {\"Ano\": 2018, \"Tipo de Ataque\": \"Fraude\", \"Total\": 37684, \"Propor\\u00e7\\u00e3o\": 0.6114279789793644}, {\"Ano\": 2019, \"Tipo de Ataque\": \"Fraude\", \"Total\": 39419, \"Propor\\u00e7\\u00e3o\": 0.6395785878194343}, {\"Ano\": 2010, \"Tipo de Ataque\": \"Outros\", \"Total\": 4440, \"Propor\\u00e7\\u00e3o\": 0.07203959841493413}, {\"Ano\": 2011, \"Tipo de Ataque\": \"Outros\", \"Total\": 196613, \"Propor\\u00e7\\u00e3o\": 3.190072424134109}, {\"Ano\": 2012, \"Tipo de Ataque\": \"Outros\", \"Total\": 91823, \"Propor\\u00e7\\u00e3o\": 1.4898405507329948}, {\"Ano\": 2013, \"Tipo de Ataque\": \"Outros\", \"Total\": 42917, \"Propor\\u00e7\\u00e3o\": 0.6963341092733623}, {\"Ano\": 2014, \"Tipo de Ataque\": \"Outros\", \"Total\": 14308, \"Propor\\u00e7\\u00e3o\": 0.23214922840560306}, {\"Ano\": 2015, \"Tipo de Ataque\": \"Outros\", \"Total\": 21021, \"Propor\\u00e7\\u00e3o\": 0.3410685581712456}, {\"Ano\": 2016, \"Tipo de Ataque\": \"Outros\", \"Total\": 14675, \"Propor\\u00e7\\u00e3o\": 0.23810385286917982}, {\"Ano\": 2017, \"Tipo de Ataque\": \"Outros\", \"Total\": 4742, \"Propor\\u00e7\\u00e3o\": 0.0769395891179319}, {\"Ano\": 2018, \"Tipo de Ataque\": \"Outros\", \"Total\": 1494, \"Propor\\u00e7\\u00e3o\": 0.024240351358538647}, {\"Ano\": 2019, \"Tipo de Ataque\": \"Outros\", \"Total\": 1514, \"Propor\\u00e7\\u00e3o\": 0.024564854054101415}]}}, {\"mode\": \"vega-lite\"});\n",
              "</script>"
            ],
            "text/plain": [
              "alt.Chart(...)"
            ]
          },
          "metadata": {}
        },
        {
          "output_type": "display_data",
          "data": {
            "text/html": [
              "\n",
              "<div id=\"altair-viz-56ec1fc7a4f542c0995a82e27d923f21\"></div>\n",
              "<script type=\"text/javascript\">\n",
              "  var VEGA_DEBUG = (typeof VEGA_DEBUG == \"undefined\") ? {} : VEGA_DEBUG;\n",
              "  (function(spec, embedOpt){\n",
              "    let outputDiv = document.currentScript.previousElementSibling;\n",
              "    if (outputDiv.id !== \"altair-viz-56ec1fc7a4f542c0995a82e27d923f21\") {\n",
              "      outputDiv = document.getElementById(\"altair-viz-56ec1fc7a4f542c0995a82e27d923f21\");\n",
              "    }\n",
              "    const paths = {\n",
              "      \"vega\": \"https://cdn.jsdelivr.net/npm//vega@5?noext\",\n",
              "      \"vega-lib\": \"https://cdn.jsdelivr.net/npm//vega-lib?noext\",\n",
              "      \"vega-lite\": \"https://cdn.jsdelivr.net/npm//vega-lite@4.17.0?noext\",\n",
              "      \"vega-embed\": \"https://cdn.jsdelivr.net/npm//vega-embed@6?noext\",\n",
              "    };\n",
              "\n",
              "    function maybeLoadScript(lib, version) {\n",
              "      var key = `${lib.replace(\"-\", \"\")}_version`;\n",
              "      return (VEGA_DEBUG[key] == version) ?\n",
              "        Promise.resolve(paths[lib]) :\n",
              "        new Promise(function(resolve, reject) {\n",
              "          var s = document.createElement('script');\n",
              "          document.getElementsByTagName(\"head\")[0].appendChild(s);\n",
              "          s.async = true;\n",
              "          s.onload = () => {\n",
              "            VEGA_DEBUG[key] = version;\n",
              "            return resolve(paths[lib]);\n",
              "          };\n",
              "          s.onerror = () => reject(`Error loading script: ${paths[lib]}`);\n",
              "          s.src = paths[lib];\n",
              "        });\n",
              "    }\n",
              "\n",
              "    function showError(err) {\n",
              "      outputDiv.innerHTML = `<div class=\"error\" style=\"color:red;\">${err}</div>`;\n",
              "      throw err;\n",
              "    }\n",
              "\n",
              "    function displayChart(vegaEmbed) {\n",
              "      vegaEmbed(outputDiv, spec, embedOpt)\n",
              "        .catch(err => showError(`Javascript Error: ${err.message}<br>This usually means there's a typo in your chart specification. See the javascript console for the full traceback.`));\n",
              "    }\n",
              "\n",
              "    if(typeof define === \"function\" && define.amd) {\n",
              "      requirejs.config({paths});\n",
              "      require([\"vega-embed\"], displayChart, err => showError(`Error loading script: ${err.message}`));\n",
              "    } else {\n",
              "      maybeLoadScript(\"vega\", \"5\")\n",
              "        .then(() => maybeLoadScript(\"vega-lite\", \"4.17.0\"))\n",
              "        .then(() => maybeLoadScript(\"vega-embed\", \"6\"))\n",
              "        .catch(showError)\n",
              "        .then(() => displayChart(vegaEmbed));\n",
              "    }\n",
              "  })({\"config\": {\"view\": {\"continuousWidth\": 400, \"continuousHeight\": 300}}, \"data\": {\"name\": \"data-250c43f4bc93b8cc24ef9c2b5d3c9c2e\"}, \"mark\": \"bar\", \"encoding\": {\"tooltip\": [{\"field\": \"Tipo de Ataque\", \"type\": \"nominal\"}, {\"aggregate\": \"sum\", \"field\": \"Total\", \"type\": \"quantitative\"}], \"x\": {\"axis\": {\"labelAngle\": -45, \"title\": \"Tipo de Ataque\"}, \"field\": \"Tipo de Ataque\", \"sort\": \"-y\", \"type\": \"nominal\"}, \"y\": {\"aggregate\": \"sum\", \"axis\": {\"title\": \"Total de Ataques\"}, \"field\": \"Total\", \"type\": \"quantitative\"}}, \"selection\": {\"selector004\": {\"type\": \"interval\", \"bind\": \"scales\", \"encodings\": [\"x\", \"y\"]}}, \"$schema\": \"https://vega.github.io/schema/vega-lite/v4.17.0.json\", \"datasets\": {\"data-250c43f4bc93b8cc24ef9c2b5d3c9c2e\": [{\"Ano\": 2010, \"Tipo de Ataque\": \"Worm\", \"Total\": 17628, \"Propor\\u00e7\\u00e3o\": 0.28601667586902224}, {\"Ano\": 2011, \"Tipo de Ataque\": \"Worm\", \"Total\": 26897, \"Propor\\u00e7\\u00e3o\": 0.43640745012758636}, {\"Ano\": 2012, \"Tipo de Ataque\": \"Worm\", \"Total\": 38466, \"Propor\\u00e7\\u00e3o\": 0.6241160343758686}, {\"Ano\": 2013, \"Tipo de Ataque\": \"Worm\", \"Total\": 27979, \"Propor\\u00e7\\u00e3o\": 0.453963045957532}, {\"Ano\": 2014, \"Tipo de Ataque\": \"Worm\", \"Total\": 42191, \"Propor\\u00e7\\u00e3o\": 0.6845546614244338}, {\"Ano\": 2015, \"Tipo de Ataque\": \"Worm\", \"Total\": 47722, \"Propor\\u00e7\\u00e3o\": 0.7742958818823168}, {\"Ano\": 2016, \"Tipo de Ataque\": \"Worm\", \"Total\": 28248, \"Propor\\u00e7\\u00e3o\": 0.4583276072128512}, {\"Ano\": 2017, \"Tipo de Ataque\": \"Worm\", \"Total\": 45101, \"Propor\\u00e7\\u00e3o\": 0.7317698036288163}, {\"Ano\": 2018, \"Tipo de Ataque\": \"Worm\", \"Total\": 39071, \"Propor\\u00e7\\u00e3o\": 0.6339322409166422}, {\"Ano\": 2019, \"Tipo de Ataque\": \"Worm\", \"Total\": 100477, \"Propor\\u00e7\\u00e3o\": 1.6302528671030037}, {\"Ano\": 2010, \"Tipo de Ataque\": \"DOS\", \"Total\": 198, \"Propor\\u00e7\\u00e3o\": 0.0032125766860713867}, {\"Ano\": 2011, \"Tipo de Ataque\": \"DOS\", \"Total\": 272, \"Propor\\u00e7\\u00e3o\": 0.004413236659653623}, {\"Ano\": 2012, \"Tipo de Ataque\": \"DOS\", \"Total\": 309, \"Propor\\u00e7\\u00e3o\": 0.00501356664644474}, {\"Ano\": 2013, \"Tipo de Ataque\": \"DOS\", \"Total\": 1030, \"Propor\\u00e7\\u00e3o\": 0.016711888821482467}, {\"Ano\": 2014, \"Tipo de Ataque\": \"DOS\", \"Total\": 223935, \"Propor\\u00e7\\u00e3o\": 3.633375556542404}, {\"Ano\": 2015, \"Tipo de Ataque\": \"DOS\", \"Total\": 25360, \"Propor\\u00e7\\u00e3o\": 0.41146941797358777}, {\"Ano\": 2016, \"Tipo de Ataque\": \"DOS\", \"Total\": 60432, \"Propor\\u00e7\\u00e3o\": 0.9805173449124549}, {\"Ano\": 2017, \"Tipo de Ataque\": \"DOS\", \"Total\": 220188, \"Propor\\u00e7\\u00e3o\": 3.57257997652872}, {\"Ano\": 2018, \"Tipo de Ataque\": \"DOS\", \"Total\": 158407, \"Propor\\u00e7\\u00e3o\": 2.5701749248005568}, {\"Ano\": 2019, \"Tipo de Ataque\": \"DOS\", \"Total\": 301308, \"Propor\\u00e7\\u00e3o\": 4.888762909731301}, {\"Ano\": 2010, \"Tipo de Ataque\": \"Invasao\", \"Total\": 89, \"Propor\\u00e7\\u00e3o\": 0.0014440369952543103}, {\"Ano\": 2011, \"Tipo de Ataque\": \"Invasao\", \"Total\": 106, \"Propor\\u00e7\\u00e3o\": 0.001719864286482662}, {\"Ano\": 2012, \"Tipo de Ataque\": \"Invasao\", \"Total\": 7815, \"Propor\\u00e7\\u00e3o\": 0.12679942829115096}, {\"Ano\": 2013, \"Tipo de Ataque\": \"Invasao\", \"Total\": 11207, \"Propor\\u00e7\\u00e3o\": 0.18183508545859614}, {\"Ano\": 2014, \"Tipo de Ataque\": \"Invasao\", \"Total\": 6509, \"Propor\\u00e7\\u00e3o\": 0.1056094022709023}, {\"Ano\": 2015, \"Tipo de Ataque\": \"Invasao\", \"Total\": 2457, \"Propor\\u00e7\\u00e3o\": 0.03986515614988585}, {\"Ano\": 2016, \"Tipo de Ataque\": \"Invasao\", \"Total\": 1695, \"Propor\\u00e7\\u00e3o\": 0.02750160344894445}, {\"Ano\": 2017, \"Tipo de Ataque\": \"Invasao\", \"Total\": 401, \"Propor\\u00e7\\u00e3o\": 0.006506279046033466}, {\"Ano\": 2018, \"Tipo de Ataque\": \"Invasao\", \"Total\": 1075, \"Propor\\u00e7\\u00e3o\": 0.017442019886498693}, {\"Ano\": 2019, \"Tipo de Ataque\": \"Invasao\", \"Total\": 527, \"Propor\\u00e7\\u00e3o\": 0.008550646028078894}, {\"Ano\": 2010, \"Tipo de Ataque\": \"Web\", \"Total\": 8712, \"Propor\\u00e7\\u00e3o\": 0.14135337418714103}, {\"Ano\": 2011, \"Tipo de Ataque\": \"Web\", \"Total\": 15491, \"Propor\\u00e7\\u00e3o\": 0.2513435628481407}, {\"Ano\": 2012, \"Tipo de Ataque\": \"Web\", \"Total\": 25557, \"Propor\\u00e7\\u00e3o\": 0.414665769524881}, {\"Ano\": 2013, \"Tipo de Ataque\": \"Web\", \"Total\": 18721, \"Propor\\u00e7\\u00e3o\": 0.3037507481815274}, {\"Ano\": 2014, \"Tipo de Ataque\": \"Web\", \"Total\": 28808, \"Propor\\u00e7\\u00e3o\": 0.4674136826886087}, {\"Ano\": 2015, \"Tipo de Ataque\": \"Web\", \"Total\": 65647, \"Propor\\u00e7\\u00e3o\": 1.065131422780446}, {\"Ano\": 2016, \"Tipo de Ataque\": \"Web\", \"Total\": 55441, \"Propor\\u00e7\\u00e3o\": 0.8995376972347665}, {\"Ano\": 2017, \"Tipo de Ataque\": \"Web\", \"Total\": 60766, \"Propor\\u00e7\\u00e3o\": 0.985936539928353}, {\"Ano\": 2018, \"Tipo de Ataque\": \"Web\", \"Total\": 41193, \"Propor\\u00e7\\u00e3o\": 0.6683619769158518}, {\"Ano\": 2019, \"Tipo de Ataque\": \"Web\", \"Total\": 22334, \"Propor\\u00e7\\u00e3o\": 0.3623721601349412}, {\"Ano\": 2010, \"Tipo de Ataque\": \"Scan\", \"Total\": 80769, \"Propor\\u00e7\\u00e3o\": 1.3104879108954537}, {\"Ano\": 2011, \"Tipo de Ataque\": \"Scan\", \"Total\": 119755, \"Propor\\u00e7\\u00e3o\": 1.9430410153559543}, {\"Ano\": 2012, \"Tipo de Ataque\": \"Scan\", \"Total\": 232498, \"Propor\\u00e7\\u00e3o\": 3.7723113856476025}, {\"Ano\": 2013, \"Tipo de Ataque\": \"Scan\", \"Total\": 165396, \"Propor\\u00e7\\u00e3o\": 2.683572391764965}, {\"Ano\": 2014, \"Tipo de Ataque\": \"Scan\", \"Total\": 263659, \"Propor\\u00e7\\u00e3o\": 4.277902810469171}, {\"Ano\": 2015, \"Tipo de Ataque\": \"Scan\", \"Total\": 391223, \"Propor\\u00e7\\u00e3o\": 6.3476459033076065}, {\"Ano\": 2016, \"Tipo de Ataque\": \"Scan\", \"Total\": 383903, \"Propor\\u00e7\\u00e3o\": 6.228877916731635}, {\"Ano\": 2017, \"Tipo de Ataque\": \"Scan\", \"Total\": 443258, \"Propor\\u00e7\\u00e3o\": 7.191920791488035}, {\"Ano\": 2018, \"Tipo de Ataque\": \"Scan\", \"Total\": 397590, \"Propor\\u00e7\\u00e3o\": 6.4509513364400135}, {\"Ano\": 2019, \"Tipo de Ataque\": \"Scan\", \"Total\": 409748, \"Propor\\u00e7\\u00e3o\": 6.64821652507262}, {\"Ano\": 2010, \"Tipo de Ataque\": \"Fraude\", \"Total\": 31008, \"Propor\\u00e7\\u00e3o\": 0.503108979200513}, {\"Ano\": 2011, \"Tipo de Ataque\": \"Fraude\", \"Total\": 40381, \"Propor\\u00e7\\u00e3o\": 0.6551871674760035}, {\"Ano\": 2012, \"Tipo de Ataque\": \"Fraude\", \"Total\": 69561, \"Propor\\u00e7\\u00e3o\": 1.1286366003020796}, {\"Ano\": 2013, \"Tipo de Ataque\": \"Fraude\", \"Total\": 85675, \"Propor\\u00e7\\u00e3o\": 1.3900884221170005}, {\"Ano\": 2014, \"Tipo de Ataque\": \"Fraude\", \"Total\": 467621, \"Propor\\u00e7\\u00e3o\": 7.58721375008782}, {\"Ano\": 2015, \"Tipo de Ataque\": \"Fraude\", \"Total\": 168775, \"Propor\\u00e7\\u00e3o\": 2.7383971221802947}, {\"Ano\": 2016, \"Tipo de Ataque\": \"Fraude\", \"Total\": 102718, \"Propor\\u00e7\\u00e3o\": 1.6666133941408119}, {\"Ano\": 2017, \"Tipo de Ataque\": \"Fraude\", \"Total\": 59319, \"Propor\\u00e7\\u00e3o\": 0.9624587699043868}, {\"Ano\": 2018, \"Tipo de Ataque\": \"Fraude\", \"Total\": 37684, \"Propor\\u00e7\\u00e3o\": 0.6114279789793644}, {\"Ano\": 2019, \"Tipo de Ataque\": \"Fraude\", \"Total\": 39419, \"Propor\\u00e7\\u00e3o\": 0.6395785878194343}, {\"Ano\": 2010, \"Tipo de Ataque\": \"Outros\", \"Total\": 4440, \"Propor\\u00e7\\u00e3o\": 0.07203959841493413}, {\"Ano\": 2011, \"Tipo de Ataque\": \"Outros\", \"Total\": 196613, \"Propor\\u00e7\\u00e3o\": 3.190072424134109}, {\"Ano\": 2012, \"Tipo de Ataque\": \"Outros\", \"Total\": 91823, \"Propor\\u00e7\\u00e3o\": 1.4898405507329948}, {\"Ano\": 2013, \"Tipo de Ataque\": \"Outros\", \"Total\": 42917, \"Propor\\u00e7\\u00e3o\": 0.6963341092733623}, {\"Ano\": 2014, \"Tipo de Ataque\": \"Outros\", \"Total\": 14308, \"Propor\\u00e7\\u00e3o\": 0.23214922840560306}, {\"Ano\": 2015, \"Tipo de Ataque\": \"Outros\", \"Total\": 21021, \"Propor\\u00e7\\u00e3o\": 0.3410685581712456}, {\"Ano\": 2016, \"Tipo de Ataque\": \"Outros\", \"Total\": 14675, \"Propor\\u00e7\\u00e3o\": 0.23810385286917982}, {\"Ano\": 2017, \"Tipo de Ataque\": \"Outros\", \"Total\": 4742, \"Propor\\u00e7\\u00e3o\": 0.0769395891179319}, {\"Ano\": 2018, \"Tipo de Ataque\": \"Outros\", \"Total\": 1494, \"Propor\\u00e7\\u00e3o\": 0.024240351358538647}, {\"Ano\": 2019, \"Tipo de Ataque\": \"Outros\", \"Total\": 1514, \"Propor\\u00e7\\u00e3o\": 0.024564854054101415}]}}, {\"mode\": \"vega-lite\"});\n",
              "</script>"
            ],
            "text/plain": [
              "alt.Chart(...)"
            ]
          },
          "metadata": {}
        }
      ]
    },
    {
      "cell_type": "code",
      "source": [
        "from google.colab import drive\n",
        "drive.mount('/content/drive')"
      ],
      "metadata": {
        "id": "8nw9CFXp2OFp",
        "colab": {
          "base_uri": "https://localhost:8080/"
        },
        "outputId": "582a8e9a-3649-4887-f8cd-9b69076a04df"
      },
      "execution_count": null,
      "outputs": [
        {
          "output_type": "stream",
          "name": "stdout",
          "text": [
            "Mounted at /content/drive\n"
          ]
        }
      ]
    }
  ]
}